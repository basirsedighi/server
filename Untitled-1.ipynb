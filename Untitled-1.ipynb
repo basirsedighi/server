{
 "metadata": {
  "language_info": {
   "codemirror_mode": {
    "name": "ipython",
    "version": 3
   },
   "file_extension": ".py",
   "mimetype": "text/x-python",
   "name": "python",
   "nbconvert_exporter": "python",
   "pygments_lexer": "ipython3",
   "version": 3
  },
  "orig_nbformat": 2
 },
 "nbformat": 4,
 "nbformat_minor": 2,
 "cells": [
  {
   "cell_type": "code",
   "execution_count": null,
   "metadata": {},
   "outputs": [],
   "source": [
    "import numpy as np\n",
    "import pandas as pd\n",
    "import matplotlib.pyplot as plt\n",
    "\n",
    "path = \"C:/Users/tor_9/Documents/csv/\"\n",
    "header_list = ['picmillis', 'gpsmillis','readlat', 'readlong', 'extendedlat','extendedlong']\n",
    "df = pd.read_csv(path+'k1time.csv', names = header_list)\n",
    "\n",
    "BBox = (df.extendedlong.min(),   df.extendedlong.max(),      \n",
    "         df.extendedlat.min(), df.extendedlat.max())\n",
    "\n",
    "ruh_m = plt.imread(path+'map.png')\n",
    "\n",
    "fig, ax = plt.subplots(figsize = (8,7))\n",
    "\n",
    "ax.scatter(df.extendedlong, df.extendedlat, zorder=1, alpha= 0.2, c='b', s=10)\n",
    "\n",
    "ax.set_title('Plotting Spatial Data on Riyadh Map')\n",
    "ax.set_xlim(BBox[0],BBox[1])\n",
    "ax.set_ylim(BBox[2],BBox[3])\n",
    "\n",
    "ax.imshow(ruh_m, zorder=0, extent = BBox, aspect= 'equal')"
   ]
  },
  {
   "cell_type": "code",
   "execution_count": null,
   "metadata": {},
   "outputs": [],
   "source": []
  }
 ]
}